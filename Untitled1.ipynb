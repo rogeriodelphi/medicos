{
 "cells": [
  {
   "cell_type": "code",
   "execution_count": 10,
   "id": "fbf4bb47",
   "metadata": {},
   "outputs": [
    {
     "data": {
      "text/plain": [
       "<QuerySet [<Speciality: Cardiologista>]>"
      ]
     },
     "execution_count": 10,
     "metadata": {},
     "output_type": "execute_result"
    }
   ],
   "source": [
    "especialidade = Speciality.objects.filter(id=1)\n",
    "especialidade"
   ]
  },
  {
   "cell_type": "code",
   "execution_count": 30,
   "id": "7f4c93b5",
   "metadata": {},
   "outputs": [
    {
     "data": {
      "text/plain": [
       "<QuerySet []>"
      ]
     },
     "execution_count": 30,
     "metadata": {},
     "output_type": "execute_result"
    }
   ],
   "source": [
    "perfil = Profile.objects.filter(specialties=1)\n",
    "perfil"
   ]
  },
  {
   "cell_type": "code",
   "execution_count": 31,
   "id": "c82e59b0",
   "metadata": {},
   "outputs": [
    {
     "ename": "FieldError",
     "evalue": "Cannot resolve keyword 'user_id' into field. Choices are: created_at, id, name, specialties, status, updated_at",
     "output_type": "error",
     "traceback": [
      "\u001b[0;31m---------------------------------------------------------------------------\u001b[0m",
      "\u001b[0;31mFieldError\u001b[0m                                Traceback (most recent call last)",
      "Input \u001b[0;32mIn [31]\u001b[0m, in \u001b[0;36m<cell line: 1>\u001b[0;34m()\u001b[0m\n\u001b[0;32m----> 1\u001b[0m especialidade \u001b[38;5;241m=\u001b[39m \u001b[43mSpeciality\u001b[49m\u001b[38;5;241;43m.\u001b[39;49m\u001b[43mobjects\u001b[49m\u001b[38;5;241;43m.\u001b[39;49m\u001b[43mfilter\u001b[49m\u001b[43m(\u001b[49m\u001b[43muser_id\u001b[49m\u001b[38;5;241;43m=\u001b[39;49m\u001b[38;5;241;43m1\u001b[39;49m\u001b[43m)\u001b[49m\n",
      "File \u001b[0;32m~/PycharmProjects/medicos/venv/lib/python3.8/site-packages/django/db/models/manager.py:85\u001b[0m, in \u001b[0;36mBaseManager._get_queryset_methods.<locals>.create_method.<locals>.manager_method\u001b[0;34m(self, *args, **kwargs)\u001b[0m\n\u001b[1;32m     84\u001b[0m \u001b[38;5;28;01mdef\u001b[39;00m \u001b[38;5;21mmanager_method\u001b[39m(\u001b[38;5;28mself\u001b[39m, \u001b[38;5;241m*\u001b[39margs, \u001b[38;5;241m*\u001b[39m\u001b[38;5;241m*\u001b[39mkwargs):\n\u001b[0;32m---> 85\u001b[0m     \u001b[38;5;28;01mreturn\u001b[39;00m \u001b[38;5;28;43mgetattr\u001b[39;49m\u001b[43m(\u001b[49m\u001b[38;5;28;43mself\u001b[39;49m\u001b[38;5;241;43m.\u001b[39;49m\u001b[43mget_queryset\u001b[49m\u001b[43m(\u001b[49m\u001b[43m)\u001b[49m\u001b[43m,\u001b[49m\u001b[43m \u001b[49m\u001b[43mname\u001b[49m\u001b[43m)\u001b[49m\u001b[43m(\u001b[49m\u001b[38;5;241;43m*\u001b[39;49m\u001b[43margs\u001b[49m\u001b[43m,\u001b[49m\u001b[43m \u001b[49m\u001b[38;5;241;43m*\u001b[39;49m\u001b[38;5;241;43m*\u001b[39;49m\u001b[43mkwargs\u001b[49m\u001b[43m)\u001b[49m\n",
      "File \u001b[0;32m~/PycharmProjects/medicos/venv/lib/python3.8/site-packages/django/db/models/query.py:941\u001b[0m, in \u001b[0;36mQuerySet.filter\u001b[0;34m(self, *args, **kwargs)\u001b[0m\n\u001b[1;32m    936\u001b[0m \u001b[38;5;124;03m\"\"\"\u001b[39;00m\n\u001b[1;32m    937\u001b[0m \u001b[38;5;124;03mReturn a new QuerySet instance with the args ANDed to the existing\u001b[39;00m\n\u001b[1;32m    938\u001b[0m \u001b[38;5;124;03mset.\u001b[39;00m\n\u001b[1;32m    939\u001b[0m \u001b[38;5;124;03m\"\"\"\u001b[39;00m\n\u001b[1;32m    940\u001b[0m \u001b[38;5;28mself\u001b[39m\u001b[38;5;241m.\u001b[39m_not_support_combined_queries(\u001b[38;5;124m'\u001b[39m\u001b[38;5;124mfilter\u001b[39m\u001b[38;5;124m'\u001b[39m)\n\u001b[0;32m--> 941\u001b[0m \u001b[38;5;28;01mreturn\u001b[39;00m \u001b[38;5;28;43mself\u001b[39;49m\u001b[38;5;241;43m.\u001b[39;49m\u001b[43m_filter_or_exclude\u001b[49m\u001b[43m(\u001b[49m\u001b[38;5;28;43;01mFalse\u001b[39;49;00m\u001b[43m,\u001b[49m\u001b[43m \u001b[49m\u001b[43margs\u001b[49m\u001b[43m,\u001b[49m\u001b[43m \u001b[49m\u001b[43mkwargs\u001b[49m\u001b[43m)\u001b[49m\n",
      "File \u001b[0;32m~/PycharmProjects/medicos/venv/lib/python3.8/site-packages/django/db/models/query.py:961\u001b[0m, in \u001b[0;36mQuerySet._filter_or_exclude\u001b[0;34m(self, negate, args, kwargs)\u001b[0m\n\u001b[1;32m    959\u001b[0m     clone\u001b[38;5;241m.\u001b[39m_deferred_filter \u001b[38;5;241m=\u001b[39m negate, args, kwargs\n\u001b[1;32m    960\u001b[0m \u001b[38;5;28;01melse\u001b[39;00m:\n\u001b[0;32m--> 961\u001b[0m     \u001b[43mclone\u001b[49m\u001b[38;5;241;43m.\u001b[39;49m\u001b[43m_filter_or_exclude_inplace\u001b[49m\u001b[43m(\u001b[49m\u001b[43mnegate\u001b[49m\u001b[43m,\u001b[49m\u001b[43m \u001b[49m\u001b[43margs\u001b[49m\u001b[43m,\u001b[49m\u001b[43m \u001b[49m\u001b[43mkwargs\u001b[49m\u001b[43m)\u001b[49m\n\u001b[1;32m    962\u001b[0m \u001b[38;5;28;01mreturn\u001b[39;00m clone\n",
      "File \u001b[0;32m~/PycharmProjects/medicos/venv/lib/python3.8/site-packages/django/db/models/query.py:968\u001b[0m, in \u001b[0;36mQuerySet._filter_or_exclude_inplace\u001b[0;34m(self, negate, args, kwargs)\u001b[0m\n\u001b[1;32m    966\u001b[0m     \u001b[38;5;28mself\u001b[39m\u001b[38;5;241m.\u001b[39m_query\u001b[38;5;241m.\u001b[39madd_q(\u001b[38;5;241m~\u001b[39mQ(\u001b[38;5;241m*\u001b[39margs, \u001b[38;5;241m*\u001b[39m\u001b[38;5;241m*\u001b[39mkwargs))\n\u001b[1;32m    967\u001b[0m \u001b[38;5;28;01melse\u001b[39;00m:\n\u001b[0;32m--> 968\u001b[0m     \u001b[38;5;28;43mself\u001b[39;49m\u001b[38;5;241;43m.\u001b[39;49m\u001b[43m_query\u001b[49m\u001b[38;5;241;43m.\u001b[39;49m\u001b[43madd_q\u001b[49m\u001b[43m(\u001b[49m\u001b[43mQ\u001b[49m\u001b[43m(\u001b[49m\u001b[38;5;241;43m*\u001b[39;49m\u001b[43margs\u001b[49m\u001b[43m,\u001b[49m\u001b[43m \u001b[49m\u001b[38;5;241;43m*\u001b[39;49m\u001b[38;5;241;43m*\u001b[39;49m\u001b[43mkwargs\u001b[49m\u001b[43m)\u001b[49m\u001b[43m)\u001b[49m\n",
      "File \u001b[0;32m~/PycharmProjects/medicos/venv/lib/python3.8/site-packages/django/db/models/sql/query.py:1393\u001b[0m, in \u001b[0;36mQuery.add_q\u001b[0;34m(self, q_object)\u001b[0m\n\u001b[1;32m   1386\u001b[0m \u001b[38;5;66;03m# For join promotion this case is doing an AND for the added q_object\u001b[39;00m\n\u001b[1;32m   1387\u001b[0m \u001b[38;5;66;03m# and existing conditions. So, any existing inner join forces the join\u001b[39;00m\n\u001b[1;32m   1388\u001b[0m \u001b[38;5;66;03m# type to remain inner. Existing outer joins can however be demoted.\u001b[39;00m\n\u001b[1;32m   1389\u001b[0m \u001b[38;5;66;03m# (Consider case where rel_a is LOUTER and rel_a__col=1 is added - if\u001b[39;00m\n\u001b[1;32m   1390\u001b[0m \u001b[38;5;66;03m# rel_a doesn't produce any rows, then the whole condition must fail.\u001b[39;00m\n\u001b[1;32m   1391\u001b[0m \u001b[38;5;66;03m# So, demotion is OK.\u001b[39;00m\n\u001b[1;32m   1392\u001b[0m existing_inner \u001b[38;5;241m=\u001b[39m {a \u001b[38;5;28;01mfor\u001b[39;00m a \u001b[38;5;129;01min\u001b[39;00m \u001b[38;5;28mself\u001b[39m\u001b[38;5;241m.\u001b[39malias_map \u001b[38;5;28;01mif\u001b[39;00m \u001b[38;5;28mself\u001b[39m\u001b[38;5;241m.\u001b[39malias_map[a]\u001b[38;5;241m.\u001b[39mjoin_type \u001b[38;5;241m==\u001b[39m INNER}\n\u001b[0;32m-> 1393\u001b[0m clause, _ \u001b[38;5;241m=\u001b[39m \u001b[38;5;28;43mself\u001b[39;49m\u001b[38;5;241;43m.\u001b[39;49m\u001b[43m_add_q\u001b[49m\u001b[43m(\u001b[49m\u001b[43mq_object\u001b[49m\u001b[43m,\u001b[49m\u001b[43m \u001b[49m\u001b[38;5;28;43mself\u001b[39;49m\u001b[38;5;241;43m.\u001b[39;49m\u001b[43mused_aliases\u001b[49m\u001b[43m)\u001b[49m\n\u001b[1;32m   1394\u001b[0m \u001b[38;5;28;01mif\u001b[39;00m clause:\n\u001b[1;32m   1395\u001b[0m     \u001b[38;5;28mself\u001b[39m\u001b[38;5;241m.\u001b[39mwhere\u001b[38;5;241m.\u001b[39madd(clause, AND)\n",
      "File \u001b[0;32m~/PycharmProjects/medicos/venv/lib/python3.8/site-packages/django/db/models/sql/query.py:1412\u001b[0m, in \u001b[0;36mQuery._add_q\u001b[0;34m(self, q_object, used_aliases, branch_negated, current_negated, allow_joins, split_subq, check_filterable)\u001b[0m\n\u001b[1;32m   1410\u001b[0m joinpromoter \u001b[38;5;241m=\u001b[39m JoinPromoter(q_object\u001b[38;5;241m.\u001b[39mconnector, \u001b[38;5;28mlen\u001b[39m(q_object\u001b[38;5;241m.\u001b[39mchildren), current_negated)\n\u001b[1;32m   1411\u001b[0m \u001b[38;5;28;01mfor\u001b[39;00m child \u001b[38;5;129;01min\u001b[39;00m q_object\u001b[38;5;241m.\u001b[39mchildren:\n\u001b[0;32m-> 1412\u001b[0m     child_clause, needed_inner \u001b[38;5;241m=\u001b[39m \u001b[38;5;28;43mself\u001b[39;49m\u001b[38;5;241;43m.\u001b[39;49m\u001b[43mbuild_filter\u001b[49m\u001b[43m(\u001b[49m\n\u001b[1;32m   1413\u001b[0m \u001b[43m        \u001b[49m\u001b[43mchild\u001b[49m\u001b[43m,\u001b[49m\u001b[43m \u001b[49m\u001b[43mcan_reuse\u001b[49m\u001b[38;5;241;43m=\u001b[39;49m\u001b[43mused_aliases\u001b[49m\u001b[43m,\u001b[49m\u001b[43m \u001b[49m\u001b[43mbranch_negated\u001b[49m\u001b[38;5;241;43m=\u001b[39;49m\u001b[43mbranch_negated\u001b[49m\u001b[43m,\u001b[49m\n\u001b[1;32m   1414\u001b[0m \u001b[43m        \u001b[49m\u001b[43mcurrent_negated\u001b[49m\u001b[38;5;241;43m=\u001b[39;49m\u001b[43mcurrent_negated\u001b[49m\u001b[43m,\u001b[49m\u001b[43m \u001b[49m\u001b[43mallow_joins\u001b[49m\u001b[38;5;241;43m=\u001b[39;49m\u001b[43mallow_joins\u001b[49m\u001b[43m,\u001b[49m\n\u001b[1;32m   1415\u001b[0m \u001b[43m        \u001b[49m\u001b[43msplit_subq\u001b[49m\u001b[38;5;241;43m=\u001b[39;49m\u001b[43msplit_subq\u001b[49m\u001b[43m,\u001b[49m\u001b[43m \u001b[49m\u001b[43mcheck_filterable\u001b[49m\u001b[38;5;241;43m=\u001b[39;49m\u001b[43mcheck_filterable\u001b[49m\u001b[43m,\u001b[49m\n\u001b[1;32m   1416\u001b[0m \u001b[43m    \u001b[49m\u001b[43m)\u001b[49m\n\u001b[1;32m   1417\u001b[0m     joinpromoter\u001b[38;5;241m.\u001b[39madd_votes(needed_inner)\n\u001b[1;32m   1418\u001b[0m     \u001b[38;5;28;01mif\u001b[39;00m child_clause:\n",
      "File \u001b[0;32m~/PycharmProjects/medicos/venv/lib/python3.8/site-packages/django/db/models/sql/query.py:1286\u001b[0m, in \u001b[0;36mQuery.build_filter\u001b[0;34m(self, filter_expr, branch_negated, current_negated, can_reuse, allow_joins, split_subq, reuse_with_filtered_relation, check_filterable)\u001b[0m\n\u001b[1;32m   1284\u001b[0m \u001b[38;5;28;01mif\u001b[39;00m \u001b[38;5;129;01mnot\u001b[39;00m arg:\n\u001b[1;32m   1285\u001b[0m     \u001b[38;5;28;01mraise\u001b[39;00m FieldError(\u001b[38;5;124m\"\u001b[39m\u001b[38;5;124mCannot parse keyword query \u001b[39m\u001b[38;5;132;01m%r\u001b[39;00m\u001b[38;5;124m\"\u001b[39m \u001b[38;5;241m%\u001b[39m arg)\n\u001b[0;32m-> 1286\u001b[0m lookups, parts, reffed_expression \u001b[38;5;241m=\u001b[39m \u001b[38;5;28;43mself\u001b[39;49m\u001b[38;5;241;43m.\u001b[39;49m\u001b[43msolve_lookup_type\u001b[49m\u001b[43m(\u001b[49m\u001b[43marg\u001b[49m\u001b[43m)\u001b[49m\n\u001b[1;32m   1288\u001b[0m \u001b[38;5;28;01mif\u001b[39;00m check_filterable:\n\u001b[1;32m   1289\u001b[0m     \u001b[38;5;28mself\u001b[39m\u001b[38;5;241m.\u001b[39mcheck_filterable(reffed_expression)\n",
      "File \u001b[0;32m~/PycharmProjects/medicos/venv/lib/python3.8/site-packages/django/db/models/sql/query.py:1112\u001b[0m, in \u001b[0;36mQuery.solve_lookup_type\u001b[0;34m(self, lookup)\u001b[0m\n\u001b[1;32m   1110\u001b[0m     \u001b[38;5;28;01mif\u001b[39;00m expression:\n\u001b[1;32m   1111\u001b[0m         \u001b[38;5;28;01mreturn\u001b[39;00m expression_lookups, (), expression\n\u001b[0;32m-> 1112\u001b[0m _, field, _, lookup_parts \u001b[38;5;241m=\u001b[39m \u001b[38;5;28;43mself\u001b[39;49m\u001b[38;5;241;43m.\u001b[39;49m\u001b[43mnames_to_path\u001b[49m\u001b[43m(\u001b[49m\u001b[43mlookup_splitted\u001b[49m\u001b[43m,\u001b[49m\u001b[43m \u001b[49m\u001b[38;5;28;43mself\u001b[39;49m\u001b[38;5;241;43m.\u001b[39;49m\u001b[43mget_meta\u001b[49m\u001b[43m(\u001b[49m\u001b[43m)\u001b[49m\u001b[43m)\u001b[49m\n\u001b[1;32m   1113\u001b[0m field_parts \u001b[38;5;241m=\u001b[39m lookup_splitted[\u001b[38;5;241m0\u001b[39m:\u001b[38;5;28mlen\u001b[39m(lookup_splitted) \u001b[38;5;241m-\u001b[39m \u001b[38;5;28mlen\u001b[39m(lookup_parts)]\n\u001b[1;32m   1114\u001b[0m \u001b[38;5;28;01mif\u001b[39;00m \u001b[38;5;28mlen\u001b[39m(lookup_parts) \u001b[38;5;241m>\u001b[39m \u001b[38;5;241m1\u001b[39m \u001b[38;5;129;01mand\u001b[39;00m \u001b[38;5;129;01mnot\u001b[39;00m field_parts:\n",
      "File \u001b[0;32m~/PycharmProjects/medicos/venv/lib/python3.8/site-packages/django/db/models/sql/query.py:1539\u001b[0m, in \u001b[0;36mQuery.names_to_path\u001b[0;34m(self, names, opts, allow_many, fail_on_missing)\u001b[0m\n\u001b[1;32m   1533\u001b[0m     \u001b[38;5;28;01mif\u001b[39;00m pos \u001b[38;5;241m==\u001b[39m \u001b[38;5;241m-\u001b[39m\u001b[38;5;241m1\u001b[39m \u001b[38;5;129;01mor\u001b[39;00m fail_on_missing:\n\u001b[1;32m   1534\u001b[0m         available \u001b[38;5;241m=\u001b[39m \u001b[38;5;28msorted\u001b[39m([\n\u001b[1;32m   1535\u001b[0m             \u001b[38;5;241m*\u001b[39mget_field_names_from_opts(opts),\n\u001b[1;32m   1536\u001b[0m             \u001b[38;5;241m*\u001b[39m\u001b[38;5;28mself\u001b[39m\u001b[38;5;241m.\u001b[39mannotation_select,\n\u001b[1;32m   1537\u001b[0m             \u001b[38;5;241m*\u001b[39m\u001b[38;5;28mself\u001b[39m\u001b[38;5;241m.\u001b[39m_filtered_relations,\n\u001b[1;32m   1538\u001b[0m         ])\n\u001b[0;32m-> 1539\u001b[0m         \u001b[38;5;28;01mraise\u001b[39;00m FieldError(\u001b[38;5;124m\"\u001b[39m\u001b[38;5;124mCannot resolve keyword \u001b[39m\u001b[38;5;124m'\u001b[39m\u001b[38;5;132;01m%s\u001b[39;00m\u001b[38;5;124m'\u001b[39m\u001b[38;5;124m into field. \u001b[39m\u001b[38;5;124m\"\u001b[39m\n\u001b[1;32m   1540\u001b[0m                          \u001b[38;5;124m\"\u001b[39m\u001b[38;5;124mChoices are: \u001b[39m\u001b[38;5;132;01m%s\u001b[39;00m\u001b[38;5;124m\"\u001b[39m \u001b[38;5;241m%\u001b[39m (name, \u001b[38;5;124m\"\u001b[39m\u001b[38;5;124m, \u001b[39m\u001b[38;5;124m\"\u001b[39m\u001b[38;5;241m.\u001b[39mjoin(available)))\n\u001b[1;32m   1541\u001b[0m     \u001b[38;5;28;01mbreak\u001b[39;00m\n\u001b[1;32m   1542\u001b[0m \u001b[38;5;66;03m# Check if we need any joins for concrete inheritance cases (the\u001b[39;00m\n\u001b[1;32m   1543\u001b[0m \u001b[38;5;66;03m# field lives in parent, but we are currently in one of its\u001b[39;00m\n\u001b[1;32m   1544\u001b[0m \u001b[38;5;66;03m# children)\u001b[39;00m\n",
      "\u001b[0;31mFieldError\u001b[0m: Cannot resolve keyword 'user_id' into field. Choices are: created_at, id, name, specialties, status, updated_at"
     ]
    }
   ],
   "source": []
  },
  {
   "cell_type": "code",
   "execution_count": null,
   "id": "4297a3ba",
   "metadata": {},
   "outputs": [],
   "source": []
  }
 ],
 "metadata": {
  "kernelspec": {
   "display_name": "Django Shell-Plus",
   "language": "python",
   "name": "django_extensions"
  },
  "language_info": {
   "codemirror_mode": {
    "name": "ipython",
    "version": 3
   },
   "file_extension": ".py",
   "mimetype": "text/x-python",
   "name": "python",
   "nbconvert_exporter": "python",
   "pygments_lexer": "ipython3",
   "version": "3.8.10"
  }
 },
 "nbformat": 4,
 "nbformat_minor": 5
}
