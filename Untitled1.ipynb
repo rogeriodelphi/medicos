{
 "cells": [
  {
   "cell_type": "code",
   "execution_count": 1,
   "id": "cca5c462",
   "metadata": {},
   "outputs": [
    {
     "data": {
      "text/plain": [
       "<QuerySet [<Speciality: Cardiologista>, <Speciality: Clínico Geral>, <Speciality: Nutricionista>, <Speciality: Endocrinologista>]>"
      ]
     },
     "execution_count": 1,
     "metadata": {},
     "output_type": "execute_result"
    }
   ],
   "source": [
    "especialidades = Speciality.objects.all()\n",
    "especialidades"
   ]
  },
  {
   "cell_type": "code",
   "execution_count": 2,
   "id": "927dff4e",
   "metadata": {},
   "outputs": [
    {
     "name": "stdout",
     "output_type": "stream",
     "text": [
      "<QuerySet [<Speciality: Cardiologista>, <Speciality: Clínico Geral>, <Speciality: Nutricionista>, <Speciality: Endocrinologista>]>\n",
      "<QuerySet [<Speciality: Cardiologista>, <Speciality: Clínico Geral>, <Speciality: Nutricionista>, <Speciality: Endocrinologista>]>\n",
      "<QuerySet [<Speciality: Cardiologista>, <Speciality: Clínico Geral>, <Speciality: Nutricionista>, <Speciality: Endocrinologista>]>\n",
      "<QuerySet [<Speciality: Cardiologista>, <Speciality: Clínico Geral>, <Speciality: Nutricionista>, <Speciality: Endocrinologista>]>\n"
     ]
    }
   ],
   "source": [
    "for esp in especialidades:\n",
    "    print(especialidades)"
   ]
  },
  {
   "cell_type": "code",
   "execution_count": null,
   "id": "824e6d1c",
   "metadata": {},
   "outputs": [],
   "source": []
  }
 ],
 "metadata": {
  "kernelspec": {
   "display_name": "Django Shell-Plus",
   "language": "python",
   "name": "django_extensions"
  },
  "language_info": {
   "codemirror_mode": {
    "name": "ipython",
    "version": 3
   },
   "file_extension": ".py",
   "mimetype": "text/x-python",
   "name": "python",
   "nbconvert_exporter": "python",
   "pygments_lexer": "ipython3",
   "version": "3.8.10"
  }
 },
 "nbformat": 4,
 "nbformat_minor": 5
}
